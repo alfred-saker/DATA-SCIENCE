{
 "cells": [
  {
   "cell_type": "markdown",
   "metadata": {},
   "source": [
    "# 1 Introduction to Python\n",
    "\n",
    "### Readings: \n",
    "- https://docs.python.org/3/tutorial/"
   ]
  },
  {
   "cell_type": "markdown",
   "metadata": {},
   "source": [
    "### Basics"
   ]
  },
  {
   "cell_type": "markdown",
   "metadata": {},
   "source": [
    "Assigning variables.  By convention, variable names start with a lower-case letter."
   ]
  },
  {
   "cell_type": "code",
   "execution_count": null,
   "metadata": {},
   "outputs": [],
   "source": [
    "#variables are dynamic typed\n",
    "x = 3 #integer\n",
    "x = 3.0 #float\n",
    "x = True #boolean\n",
    "x = 'hello' #string\n",
    "\n",
    "a, b = 1, 2  #multiple assignments\n",
    "PI   = 3.14  #use all-caps for constants\n",
    "#and = 1  #python keyword such as \"and\", \"or\", \"class\", \"True\", \"False\" cannot be used as variable name"
   ]
  },
  {
   "cell_type": "markdown",
   "metadata": {},
   "source": [
    "Various ways to print"
   ]
  },
  {
   "cell_type": "code",
   "execution_count": null,
   "metadata": {},
   "outputs": [],
   "source": [
    "print(\"1: X with newline: \\n\", x)  #comma for variable, \\n for newline\n",
    "print(\"2: X with .format: {}\".format(x))  #.format for inserting variable at particular position\n",
    "print(f\"3: X using f-string with {x}\")  #good for not forgetting to write comma, .format\n",
    "print(\"4: User\", \"Desktop\", \"Home\", sep=\"/\") #with separator\n",
    "print(\"5: Hello\", end='')  #disable newline\n",
    "print(\"6: World\")\n",
    "print(r\"7: \\n is used for newline\")  #use r-string for raw; useful for regular expressions\n",
    "print(\"8: \\\"Hi\")  #use \\ to escape \"\n",
    "print(\"9: C style printing = %f\" % 1.0)  #C-style; %s for string, %f for float, %d for int\n",
    "print(\"10: Casting with c style:  value1= %.2f. value2 = %d\" % (3.1415, 1.5))"
   ]
  },
  {
   "cell_type": "markdown",
   "metadata": {},
   "source": [
    "Booleans"
   ]
  },
  {
   "cell_type": "code",
   "execution_count": null,
   "metadata": {},
   "outputs": [],
   "source": [
    "#boolean, can use either Boolean or int\n",
    "a  = True\n",
    "a2 = 10  #anything digit not 0 is count as True\n",
    "b  = False\n",
    "b2 = 0\n",
    "print(type(b))\n",
    "print(type(b2))\n",
    "print(\"1: Is a boolean: \", type(a) is bool)\n",
    "print(\"2: Is a2 int: \", isinstance(a2, int))\n",
    "\n",
    "print(\"4: True and False: \", True and False)\n",
    "print(\"5: True or False: \", True or False)\n",
    "print(\"6: Not False: \", not False)\n",
    "print(\"7: Not 0: \", not 0)"
   ]
  },
  {
   "cell_type": "markdown",
   "metadata": {},
   "source": [
    "Arithmetic operations"
   ]
  },
  {
   "cell_type": "code",
   "execution_count": null,
   "metadata": {},
   "outputs": [],
   "source": [
    "print(\"1: 3+3     -->\", 3 + 3)\n",
    "print(\"2: 3/3     -->\", 3 / 3)\n",
    "print(\"3: 4 // 3  -->\", 4 // 3)  #integer division\n",
    "print(\"4: 4 mod 3 -->\", 4 % 3)  #modulo\n",
    "print(\"5: 4 ^ 2   -->\", 4 ** 2) #power\n",
    "\n",
    "import math\n",
    "print(\"6: With math. \", math.cos(2* math.pi))"
   ]
  },
  {
   "cell_type": "markdown",
   "metadata": {},
   "source": [
    "Operation between types"
   ]
  },
  {
   "cell_type": "code",
   "execution_count": null,
   "metadata": {},
   "outputs": [],
   "source": [
    "#float + int = float\n",
    "#int + int = int\n",
    "#int/float + string = error\n",
    "print(\"1: float + int \", type(float(3) + int(3)))\n",
    "print(\"2: int + int   \", type(int(3) + int(3)))\n",
    "#print(\"string + int\", type(str(3) + int(3))) #error"
   ]
  },
  {
   "cell_type": "markdown",
   "metadata": {},
   "source": [
    "### === Task 1 ===\n",
    "\n",
    "1. Declare two strings with value \"3\" and \"4\". Converting them to int, and then perform addition\n",
    "\n",
    "2. Declare a variable x = 10, and then print a f-string saying \"my variable x = 10\" where 10 is from the x value.\n",
    "\n",
    "3. Perform a calculation of (10 mod 4 / 2) and convert to integer\n",
    "\n",
    "4. Get input from user using input(), and then print the type of the input <br>\n",
    "Hint: https://www.geeksforgeeks.org/taking-input-in-python/\n",
    "\n",
    "5. Declare three strings: \"Chaky\", \"John\", \"Tom\", and concatenate (connect) them into \"Chaky, John, Tom\""
   ]
  },
  {
   "cell_type": "markdown",
   "metadata": {},
   "source": [
    "### Comparison"
   ]
  },
  {
   "cell_type": "markdown",
   "metadata": {},
   "source": [
    "if statement"
   ]
  },
  {
   "cell_type": "code",
   "execution_count": null,
   "metadata": {},
   "outputs": [],
   "source": [
    "statement1 = False\n",
    "statement2 = False\n",
    "statement3 = True\n",
    "\n",
    "#use indentation, this is one annoying aspect of python!\n",
    "if statement1:\n",
    "    if statement3:\n",
    "        print(\"1: statement1 is True\")\n",
    "elif statement2:\n",
    "    print(\"2: statement2 is True\")\n",
    "else:\n",
    "    print(\"3: statement1 and statement2 are False\")\n",
    "    print(\"4: Still inside the else block!!\")\n",
    "    \n",
    "print(\"5: Now outside the if block!\")"
   ]
  },
  {
   "cell_type": "markdown",
   "metadata": {},
   "source": [
    "while statement"
   ]
  },
  {
   "cell_type": "code",
   "execution_count": null,
   "metadata": {},
   "outputs": [],
   "source": [
    "i = 0\n",
    "while i < 5:\n",
    "    print(\"Inside while:\", i)\n",
    "    i = i + 1  #try i+=1\n",
    "print(\"2: done\")"
   ]
  },
  {
   "cell_type": "markdown",
   "metadata": {},
   "source": [
    "comparison operators"
   ]
  },
  {
   "cell_type": "code",
   "execution_count": null,
   "metadata": {},
   "outputs": [],
   "source": [
    "2 > 1, 2 < 1, 2 > 2, 2 < 2, 2 >= 2, 2 <= 2, [1,2] == [1,2], not True"
   ]
  },
  {
   "cell_type": "markdown",
   "metadata": {},
   "source": [
    "### === Task 2 ===\n",
    "\n",
    "1. Get input from user using input().  If the number is less than 5, print \"less than\".  Otherwise, print \"higher than\". <br>\n",
    "Note: input() always returns str\n",
    "\n",
    "2. Write a simple number guessing game.  The program generates a random integer.  It then accepts input from users for a integer.  After the user input, the system outputs one of the three possible states whether the number is higher, lower or equal to the target integer.  If it is wrong, it will keep asking users for input.  Feel free to make any assumption for anything not stated."
   ]
  }
 ],
 "metadata": {
  "kernelspec": {
   "display_name": "Python 3.8.6 ('teaching_env')",
   "language": "python",
   "name": "python3"
  },
  "language_info": {
   "codemirror_mode": {
    "name": "ipython",
    "version": 3
   },
   "file_extension": ".py",
   "mimetype": "text/x-python",
   "name": "python",
   "nbconvert_exporter": "python",
   "pygments_lexer": "ipython3",
   "version": "3.10.12"
  },
  "vscode": {
   "interpreter": {
    "hash": "becc4c8e5ad229b2591d820334d85e3db0111492344629bf57f272470dce75a5"
   }
  }
 },
 "nbformat": 4,
 "nbformat_minor": 4
}
